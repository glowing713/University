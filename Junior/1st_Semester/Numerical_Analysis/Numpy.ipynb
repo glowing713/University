{
 "cells": [
  {
   "cell_type": "code",
   "execution_count": 4,
   "metadata": {},
   "outputs": [
    {
     "name": "stdout",
     "output_type": "stream",
     "text": [
      "9\n",
      "negative\n",
      "zero\n"
     ]
    }
   ],
   "source": [
    "def adding(a,b):\n",
    "    c=a+b\n",
    "    if c>0:\n",
    "        return c\n",
    "    elif c<0:\n",
    "        return 'negative'\n",
    "    else:\n",
    "        return 'zero'\n",
    "print(adding(4,5))\n",
    "print(adding(-9,2))\n",
    "print(adding(3,-3))"
   ]
  },
  {
   "cell_type": "code",
   "execution_count": 5,
   "metadata": {},
   "outputs": [
    {
     "name": "stdout",
     "output_type": "stream",
     "text": [
      "[0 1 2 3 4]\n",
      "[0 1 2 3 4]\n",
      "5\n"
     ]
    }
   ],
   "source": [
    "from numpy import array\n",
    "alist=[0,1,2,3,4]\n",
    "yvector=array(alist)\n",
    "avector=array([0,1,2,3,4])\n",
    "\n",
    "print(yvector)\n",
    "print(avector)\n",
    "print(len(avector))"
   ]
  },
  {
   "cell_type": "code",
   "execution_count": 6,
   "metadata": {},
   "outputs": [
    {
     "name": "stdout",
     "output_type": "stream",
     "text": [
      "[0 1 2 3 4]\n",
      "[0 3 6 9]\n"
     ]
    }
   ],
   "source": [
    "from numpy import arange\n",
    "brange=arange(5)\n",
    "crange=arange(0,10,3)\n",
    "print(brange)\n",
    "print(crange)"
   ]
  },
  {
   "cell_type": "code",
   "execution_count": 12,
   "metadata": {},
   "outputs": [
    {
     "name": "stdout",
     "output_type": "stream",
     "text": [
      "[[0 1 2]\n",
      " [3 4 5]\n",
      " [6 7 8]]\n"
     ]
    }
   ],
   "source": [
    "from numpy import array\n",
    "amat=array([[0,1,2],[3,4,5],[6,7,8]])\n",
    "print(amat)"
   ]
  },
  {
   "cell_type": "code",
   "execution_count": 17,
   "metadata": {},
   "outputs": [
    {
     "name": "stdout",
     "output_type": "stream",
     "text": [
      "[ 0.  1.  2.  3.  4.  5.  6.  7.  8.  9. 10.]\n"
     ]
    }
   ],
   "source": [
    "from numpy import linspace\n",
    "aspace=linspace(0,10,11)\n",
    "print(aspace)"
   ]
  },
  {
   "cell_type": "code",
   "execution_count": 18,
   "metadata": {},
   "outputs": [
    {
     "name": "stdout",
     "output_type": "stream",
     "text": [
      "ones=  [[1. 1. 1.]\n",
      " [1. 1. 1.]\n",
      " [1. 1. 1.]]\n",
      "zeros=  [[0. 0. 0.]\n",
      " [0. 0. 0.]\n",
      " [0. 0. 0.]]\n",
      "eye=  [[1. 0. 0.]\n",
      " [0. 1. 0.]\n",
      " [0. 0. 1.]]\n"
     ]
    }
   ],
   "source": [
    "from numpy import ones,zeros,eye\n",
    "aones=ones((3,3))\n",
    "azeros=zeros((3,3))\n",
    "aeye=eye(3)\n",
    "print('ones= ',aones)\n",
    "print('zeros= ',azeros)\n",
    "print('eye= ',aeye)"
   ]
  },
  {
   "cell_type": "code",
   "execution_count": 28,
   "metadata": {},
   "outputs": [
    {
     "name": "stdout",
     "output_type": "stream",
     "text": [
      "[[ 0  3  5]\n",
      " [ 9  9  8]\n",
      " [10  9  7]]\n",
      "[[ 2  1  1]\n",
      " [-1  1  4]\n",
      " [ 4  7 11]]\n"
     ]
    }
   ],
   "source": [
    "from numpy import array\n",
    "A=array([[1,2,3],[4,5,6],[7,8,9]])\n",
    "B=array([[-1,1,2],[5,4,2],[3,1,-2]])\n",
    "\n",
    "madd=A+B\n",
    "msub=A-B\n",
    "\n",
    "print(madd)\n",
    "print(msub)"
   ]
  },
  {
   "cell_type": "code",
   "execution_count": 31,
   "metadata": {},
   "outputs": [
    {
     "name": "stdout",
     "output_type": "stream",
     "text": [
      "11\n"
     ]
    }
   ],
   "source": [
    "from numpy import array\n",
    "a=array([1,2])\n",
    "b=array([3,4])\n",
    "dots=a.dot(b)\n",
    "print(dots)"
   ]
  },
  {
   "cell_type": "code",
   "execution_count": 34,
   "metadata": {},
   "outputs": [
    {
     "name": "stdout",
     "output_type": "stream",
     "text": [
      "matrix multiplication=  [[ -1   2   6]\n",
      " [ 20  20  12]\n",
      " [ 21   8 -18]]\n",
      "dot product=  [[18 12  0]\n",
      " [39 30  6]\n",
      " [60 48 12]]\n"
     ]
    }
   ],
   "source": [
    "from numpy import array,dot\n",
    "A=array([[1,2,3],[4,5,6],[7,8,9]])\n",
    "B=array([[-1,1,2],[5,4,2],[3,1,-2]])\n",
    "mnt=A*B\n",
    "dotp=A.dot(B)\n",
    "print('matrix multiplication= ',mnt)\n",
    "print('dot product= ',dotp)"
   ]
  },
  {
   "cell_type": "code",
   "execution_count": null,
   "metadata": {},
   "outputs": [],
   "source": []
  }
 ],
 "metadata": {
  "kernelspec": {
   "display_name": "Python 3",
   "language": "python",
   "name": "python3"
  },
  "language_info": {
   "codemirror_mode": {
    "name": "ipython",
    "version": 3
   },
   "file_extension": ".py",
   "mimetype": "text/x-python",
   "name": "python",
   "nbconvert_exporter": "python",
   "pygments_lexer": "ipython3",
   "version": "3.7.1"
  }
 },
 "nbformat": 4,
 "nbformat_minor": 2
}
